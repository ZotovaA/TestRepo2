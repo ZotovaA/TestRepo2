{
  "metadata": {
    "kernelspec": {
      "name": "python",
      "display_name": "Python (Pyodide)",
      "language": "python"
    },
    "language_info": {
      "codemirror_mode": {
        "name": "python",
        "version": 3
      },
      "file_extension": ".py",
      "mimetype": "text/x-python",
      "name": "python",
      "nbconvert_exporter": "python",
      "pygments_lexer": "ipython3",
      "version": "3.8"
    }
  },
  "nbformat_minor": 5,
  "nbformat": 4,
  "cells": [
    {
      "id": "e9656559-d7ef-4b73-a35d-8f7eea512648",
      "cell_type": "markdown",
      "source": "# Data Science Tools and Ecosystem",
      "metadata": {}
    },
    {
      "id": "de24ffe6-2c4a-4a3f-a3fa-295dc821bc07",
      "cell_type": "markdown",
      "source": "In this notebook, Data Science Tools and Ecosystem are summarized.",
      "metadata": {}
    },
    {
      "id": "4883d5fa-afbf-45ec-b79d-853771ffbc2f",
      "cell_type": "markdown",
      "source": "**Objectives:**\n* List popular languages for Data Science\n* List commonly used libraries used by Data Scientists\n* Democtrate a few examples of evaluating arithmetic expressions in Python",
      "metadata": {}
    },
    {
      "id": "986f13bf-8fd2-4991-a61c-ce0596829c24",
      "cell_type": "markdown",
      "source": "Some of the popular languages that Data Scientists use are:\n1. Python\n2. R\n3. SQL",
      "metadata": {}
    },
    {
      "id": "f2428510-db9c-422f-995c-742a736c47e3",
      "cell_type": "markdown",
      "source": "Some of the commonly used libraries used by Data Scientists include:\n1. Scientific Computing Libraries in Python\n2. Visualization Libraries in Python\n3. High-Level-Machine Learning and Deep Learning\n4. Deep Learning Libraries in Python\n5. Libraries used in other languages",
      "metadata": {}
    },
    {
      "id": "c6770d41-6863-4b2f-82c5-479466d0ba03",
      "cell_type": "markdown",
      "source": "|Data Science Tools|\n|------------------|\n|Jupyter|\n|Apache Zeppelin|\n|RStudio|",
      "metadata": {}
    },
    {
      "id": "0c25986c-a408-4050-b2c8-67da52f63b3b",
      "cell_type": "markdown",
      "source": "### Below are a few examples of evaluating arithmetic expressions in Python",
      "metadata": {}
    },
    {
      "id": "f5d3e639-50ae-4cd3-9c1f-6ba106d533c4",
      "cell_type": "code",
      "source": "# This a simple arithmetic expression to mutiply then add integers\n(3*4)+5",
      "metadata": {
        "trusted": true
      },
      "outputs": [
        {
          "execution_count": 3,
          "output_type": "execute_result",
          "data": {
            "text/plain": "17"
          },
          "metadata": {}
        }
      ],
      "execution_count": 3
    },
    {
      "id": "9eb9ad8e-326d-4936-939e-19e9ed7f5b15",
      "cell_type": "code",
      "source": "#This will convert 200 minutes to hours by diving by 60\n200/60",
      "metadata": {
        "trusted": true
      },
      "outputs": [
        {
          "execution_count": 4,
          "output_type": "execute_result",
          "data": {
            "text/plain": "3.3333333333333335"
          },
          "metadata": {}
        }
      ],
      "execution_count": 4
    },
    {
      "id": "cbf94bb2-38a1-4d36-9610-554bebbab7cd",
      "cell_type": "markdown",
      "source": "## Author\nAlla Zotova",
      "metadata": {}
    },
    {
      "id": "e1d84cb0-cd8d-4900-acc7-5341ab575585",
      "cell_type": "code",
      "source": "",
      "metadata": {
        "trusted": true
      },
      "outputs": [],
      "execution_count": null
    }
  ]
}